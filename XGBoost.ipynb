{
 "cells": [
  {
   "cell_type": "code",
   "execution_count": 2,
   "id": "a41e05e0",
   "metadata": {},
   "outputs": [],
   "source": [
    "#Import Essential Libraries\n",
    "import pandas as pd\n",
    "import seaborn as sns\n",
    "import numpy as np\n",
    "import matplotlib.pyplot as plt\n",
    "import pickle\n",
    "import xgboost as xgb\n",
    "from xgboost.sklearn import XGBClassifier\n",
    "from sklearn.model_selection import train_test_split\n",
    "from sklearn.metrics import accuracy_score"
   ]
  },
  {
   "cell_type": "code",
   "execution_count": 3,
   "id": "65d48a81",
   "metadata": {},
   "outputs": [],
   "source": [
    "#Load Data\n",
    "data = pd.read_csv('dataset.csv')"
   ]
  },
  {
   "cell_type": "code",
   "execution_count": 4,
   "id": "e220cb48",
   "metadata": {
    "scrolled": true
   },
   "outputs": [],
   "source": [
    "data = data.drop(['COPDSEVERITY','PackHistory','ID','MWT1','MWT2','CAT','HAD','MWT1Best','Unnamed: 0'], axis=1)"
   ]
  },
  {
   "cell_type": "code",
   "execution_count": 5,
   "id": "81339894",
   "metadata": {},
   "outputs": [],
   "source": [
    "data['copd']=data['copd'].factorize()[0]"
   ]
  },
  {
   "cell_type": "code",
   "execution_count": 6,
   "id": "f6fa7810",
   "metadata": {},
   "outputs": [],
   "source": [
    "#Train and Test Spliting\n",
    "X = data.drop('copd',axis=1).values\n",
    "y = data['copd']\n",
    "\n",
    "# 20% test 80% train\n",
    "X_train, X_test, y_train, y_test = train_test_split(X,\n",
    "                                                    y,\n",
    "                                                    test_size = 0.15,\n",
    "                                                    random_state = 40)\n"
   ]
  },
  {
   "cell_type": "code",
   "execution_count": 11,
   "id": "db90fa3e",
   "metadata": {},
   "outputs": [
    {
     "name": "stdout",
     "output_type": "stream",
     "text": [
      "[01:57:50] WARNING: C:/buildkite-agent/builds/buildkite-windows-cpu-autoscaling-group-i-03de431ba26204c4d-1/xgboost/xgboost-ci-windows/src/learner.cc:767: \n",
      "Parameters: { \"verbose\" } are not used.\n",
      "\n"
     ]
    }
   ],
   "source": [
    "# Predict using the best models\n",
    "XGClass_model = XGBClassifier(learning_rate=0.01, n_estimators=1500, max_depth=4,\n",
    "                              num_class=num_class,\n",
    "                              verbose=False)\n",
    "\n",
    "# XGClass_model = XGBClassifier(learning_rate=0.01, n_estimators=1500, max_depth=4, \n",
    "#                               early_stopping_rounds=10, \n",
    "#                               eval_set=[(X_train, y_test)],\n",
    "#                               num_class=num_class,\n",
    "#                               verbose=False)\n",
    "\n",
    "XGClass_model.fit(X_train,y_train)\n",
    "\n",
    "# Proccess the predictions for the training of the model\n",
    "predictions = XGClass_model.predict(X_test)\n",
    "\n",
    "# Model Validation using accuracy score\n",
    "# print('Accuracy for the XGClassifier model was: \\n', accuracy_score(y_test, predictions))\n"
   ]
  },
  {
   "cell_type": "code",
   "execution_count": 12,
   "id": "0e079b3b",
   "metadata": {},
   "outputs": [],
   "source": [
    "pickle.dump(XGClass_model,open('model.pkl','wb'))\n",
    "model = pickle.load(open('model.pkl','rb'))"
   ]
  },
  {
   "cell_type": "code",
   "execution_count": 14,
   "id": "81d53743",
   "metadata": {},
   "outputs": [
    {
     "data": {
      "text/plain": [
       "0"
      ]
     },
     "execution_count": 14,
     "metadata": {},
     "output_type": "execute_result"
    }
   ],
   "source": [
    "XGClass_model.predict([[20,1.2,40,2.0,50,40,2,1,2,1,1,0,1,1]])[0]"
   ]
  },
  {
   "cell_type": "code",
   "execution_count": null,
   "id": "4e928b1e",
   "metadata": {},
   "outputs": [],
   "source": []
  }
 ],
 "metadata": {
  "kernelspec": {
   "display_name": "Python 3 (ipykernel)",
   "language": "python",
   "name": "python3"
  },
  "language_info": {
   "codemirror_mode": {
    "name": "ipython",
    "version": 3
   },
   "file_extension": ".py",
   "mimetype": "text/x-python",
   "name": "python",
   "nbconvert_exporter": "python",
   "pygments_lexer": "ipython3",
   "version": "3.9.12"
  }
 },
 "nbformat": 4,
 "nbformat_minor": 5
}
